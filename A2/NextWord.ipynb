{
 "cells": [
  {
   "cell_type": "code",
   "execution_count": 1,
   "id": "b202c45d",
   "metadata": {},
   "outputs": [],
   "source": [
    "import nltk\n",
    "import re\n",
    "import string\n",
    "import jsonlines\n",
    "import pandas as pd\n",
    "import matplotlib.pyplot as plt"
   ]
  },
  {
   "cell_type": "code",
   "execution_count": 2,
   "id": "f621328a",
   "metadata": {},
   "outputs": [],
   "source": [
    "# reading the file, converted to lowercase\n",
    "file = open(\"CBT_LM_Dataset/train.txt\", \"r\", encoding = \"utf8\")\n",
    "linesOG = []\n",
    "\n",
    "for i in file:\n",
    "    linesOG.append(i.replace('\\n', '').lower())"
   ]
  },
  {
   "cell_type": "code",
   "execution_count": 3,
   "id": "e1f7efe3",
   "metadata": {},
   "outputs": [],
   "source": [
    "# For testing purposes use smaller dataset\n",
    "lines = linesOG"
   ]
  },
  {
   "cell_type": "code",
   "execution_count": 4,
   "id": "f4cb5cb4",
   "metadata": {},
   "outputs": [],
   "source": [
    "for i in range(len(lines)):\n",
    "    lines[i] = lines[i].translate(str.maketrans('', '', string.punctuation))\n",
    "    lines[i] = nltk.word_tokenize(lines[i])"
   ]
  },
  {
   "cell_type": "code",
   "execution_count": 5,
   "id": "d8aa8bc9",
   "metadata": {},
   "outputs": [],
   "source": [
    "from collections import defaultdict\n",
    "from nltk import bigrams\n",
    "\n",
    "vocab = defaultdict(int)\n",
    "\n",
    "for line in lines:\n",
    "    for word in line:\n",
    "        vocab[word] += 1\n",
    "\n",
    "V = len(vocab)"
   ]
  },
  {
   "cell_type": "code",
   "execution_count": 6,
   "id": "79076a72",
   "metadata": {},
   "outputs": [],
   "source": [
    "bicounts = defaultdict(lambda: defaultdict(int))\n",
    "for line in lines:\n",
    "    for w1, w2 in bigrams(line, pad_left=True, pad_right=True):\n",
    "        bicounts[w1][w2] += 1"
   ]
  },
  {
   "cell_type": "markdown",
   "id": "512fa730",
   "metadata": {},
   "source": [
    "## No smoothing"
   ]
  },
  {
   "cell_type": "code",
   "execution_count": 7,
   "id": "4e4e7e67",
   "metadata": {},
   "outputs": [],
   "source": [
    "model1 = defaultdict(lambda: defaultdict(float))\n",
    "\n",
    "for w1 in bicounts:\n",
    "    total = sum(bicounts[w1].values())\n",
    "    for w2 in bicounts[w1]:\n",
    "        model1[w1][w2] = bicounts[w1][w2] / total"
   ]
  },
  {
   "cell_type": "markdown",
   "id": "a5b4bef9",
   "metadata": {},
   "source": [
    "## Laplace smoothing"
   ]
  },
  {
   "cell_type": "code",
   "execution_count": 8,
   "id": "02feffe3",
   "metadata": {},
   "outputs": [],
   "source": [
    "model2 = defaultdict(lambda: defaultdict(float))\n",
    "\n",
    "for w1 in bicounts:\n",
    "    total = sum(bicounts[w1].values())\n",
    "    for w2 in bicounts[w1]:\n",
    "        model2[w1][w2] = (bicounts[w1][w2] + 1) / (total + V)"
   ]
  },
  {
   "cell_type": "markdown",
   "id": "94318f6b",
   "metadata": {},
   "source": [
    "## Add k smoothing"
   ]
  },
  {
   "cell_type": "code",
   "execution_count": 9,
   "id": "933bb7da",
   "metadata": {},
   "outputs": [],
   "source": [
    "model3 = defaultdict(lambda: defaultdict(float))\n",
    "k = 0.2\n",
    "\n",
    "for w1 in bicounts:\n",
    "    total = sum(bicounts[w1].values())\n",
    "    for w2 in bicounts[w1]:\n",
    "        model3[w1][w2] = (bicounts[w1][w2] + k) / (total + k*V)"
   ]
  },
  {
   "cell_type": "markdown",
   "id": "3c6a47ca",
   "metadata": {},
   "source": [
    "## Testing the models"
   ]
  },
  {
   "cell_type": "code",
   "execution_count": 10,
   "id": "d0df8084",
   "metadata": {},
   "outputs": [],
   "source": [
    "q = []\n",
    "o = []\n",
    "a = []\n",
    "output = []\n",
    "with jsonlines.open('CBT_LM_Dataset/validation.jsonl') as f:\n",
    "    for line in f.iter():\n",
    "        output.append({\"question\": line[\"question\"]})\n",
    "        q.append(nltk.word_tokenize(line[\"question\"].lower().translate(str.maketrans('', '', string.punctuation))))\n",
    "        o.append(line[\"options\"])\n",
    "        a.append(line[\"answer\"])"
   ]
  },
  {
   "cell_type": "code",
   "execution_count": 11,
   "id": "0d71844c",
   "metadata": {},
   "outputs": [],
   "source": [
    "def selectMax(model, prev, options):\n",
    "    ans = None\n",
    "    prob = -1\n",
    "    for word in options:\n",
    "        if(model[prev][word] > prob):\n",
    "            ans = word\n",
    "            prob = model[prev][word]\n",
    "    return ans\n",
    "\n",
    "def test(model):\n",
    "    n = len(q)\n",
    "    correct = [0]*n\n",
    "    for i in range(n):\n",
    "        prev = None\n",
    "        for j in range(len(q[i])):\n",
    "            if(q[i][j]=='xxxxx'):\n",
    "                if(j!=0):\n",
    "                    prev = q[i][j-1]\n",
    "                break\n",
    "        ans = selectMax(model, prev, o[i])\n",
    "        output[i][\"prediction\"] = ans\n",
    "        if(ans == a[i]):\n",
    "            correct[i] = 1\n",
    "    return correct"
   ]
  },
  {
   "cell_type": "markdown",
   "id": "a6226976",
   "metadata": {},
   "source": [
    "### Model 1: w/o smoothing"
   ]
  },
  {
   "cell_type": "code",
   "execution_count": 12,
   "id": "c03ba870",
   "metadata": {},
   "outputs": [
    {
     "name": "stdout",
     "output_type": "stream",
     "text": [
      "accuracy is 53.25 %\n"
     ]
    }
   ],
   "source": [
    "correct = test(model1)\n",
    "accuracy = sum(correct) / len(correct)\n",
    "print('accuracy is', accuracy*100, '%')"
   ]
  },
  {
   "cell_type": "markdown",
   "id": "b29b700b",
   "metadata": {},
   "source": [
    "### Model 2: Laplace smoothing"
   ]
  },
  {
   "cell_type": "code",
   "execution_count": 13,
   "id": "915d8df5",
   "metadata": {},
   "outputs": [
    {
     "name": "stdout",
     "output_type": "stream",
     "text": [
      "accuracy is 53.25 %\n"
     ]
    }
   ],
   "source": [
    "correct = test(model2)\n",
    "accuracy = sum(correct) / len(correct)\n",
    "print('accuracy is', accuracy*100, '%')"
   ]
  },
  {
   "cell_type": "markdown",
   "id": "53ae9869",
   "metadata": {},
   "source": [
    "### Model 3: Add k smoothing"
   ]
  },
  {
   "cell_type": "code",
   "execution_count": 14,
   "id": "d6bf02f9",
   "metadata": {},
   "outputs": [
    {
     "name": "stdout",
     "output_type": "stream",
     "text": [
      "accuracy is 53.25 %\n"
     ]
    }
   ],
   "source": [
    "correct = test(model3)\n",
    "accuracy = sum(correct) / len(correct)\n",
    "print('accuracy is', accuracy*100, '%')"
   ]
  },
  {
   "cell_type": "markdown",
   "id": "3502e09f",
   "metadata": {},
   "source": [
    "## Saving predictions to output file"
   ]
  },
  {
   "cell_type": "code",
   "execution_count": 15,
   "id": "1ff77736",
   "metadata": {},
   "outputs": [],
   "source": [
    "with jsonlines.open(\"output.jsonl\", 'w') as f:\n",
    "    for item in output:\n",
    "        f.write(item)"
   ]
  }
 ],
 "metadata": {
  "kernelspec": {
   "display_name": "Python 3 (ipykernel)",
   "language": "python",
   "name": "python3"
  },
  "language_info": {
   "codemirror_mode": {
    "name": "ipython",
    "version": 3
   },
   "file_extension": ".py",
   "mimetype": "text/x-python",
   "name": "python",
   "nbconvert_exporter": "python",
   "pygments_lexer": "ipython3",
   "version": "3.9.6"
  }
 },
 "nbformat": 4,
 "nbformat_minor": 5
}
