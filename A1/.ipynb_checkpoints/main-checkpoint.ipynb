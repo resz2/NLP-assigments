{
 "cells": [
  {
   "cell_type": "code",
   "execution_count": 1,
   "id": "367739e2",
   "metadata": {},
   "outputs": [],
   "source": [
    "import nltk\n",
    "import re\n",
    "import string\n",
    "import pandas as pd\n",
    "import matplotlib.pyplot as plt"
   ]
  },
  {
   "cell_type": "code",
   "execution_count": 2,
   "id": "802fcd00",
   "metadata": {},
   "outputs": [
    {
     "data": {
      "text/html": [
       "<div>\n",
       "<style scoped>\n",
       "    .dataframe tbody tr th:only-of-type {\n",
       "        vertical-align: middle;\n",
       "    }\n",
       "\n",
       "    .dataframe tbody tr th {\n",
       "        vertical-align: top;\n",
       "    }\n",
       "\n",
       "    .dataframe thead th {\n",
       "        text-align: right;\n",
       "    }\n",
       "</style>\n",
       "<table border=\"1\" class=\"dataframe\">\n",
       "  <thead>\n",
       "    <tr style=\"text-align: right;\">\n",
       "      <th></th>\n",
       "      <th>Category</th>\n",
       "      <th>Message</th>\n",
       "    </tr>\n",
       "  </thead>\n",
       "  <tbody>\n",
       "    <tr>\n",
       "      <th>0</th>\n",
       "      <td>ham</td>\n",
       "      <td>Go until jurong point, crazy.. Available only ...</td>\n",
       "    </tr>\n",
       "    <tr>\n",
       "      <th>1</th>\n",
       "      <td>ham</td>\n",
       "      <td>Ok lar... Joking wif u oni...</td>\n",
       "    </tr>\n",
       "    <tr>\n",
       "      <th>2</th>\n",
       "      <td>spam</td>\n",
       "      <td>Free entry in 2 a wkly comp to win FA Cup fina...</td>\n",
       "    </tr>\n",
       "    <tr>\n",
       "      <th>3</th>\n",
       "      <td>ham</td>\n",
       "      <td>U dun say so early hor... U c already then say...</td>\n",
       "    </tr>\n",
       "    <tr>\n",
       "      <th>4</th>\n",
       "      <td>ham</td>\n",
       "      <td>Nah I don't think he goes to usf, he lives aro...</td>\n",
       "    </tr>\n",
       "  </tbody>\n",
       "</table>\n",
       "</div>"
      ],
      "text/plain": [
       "  Category                                            Message\n",
       "0      ham  Go until jurong point, crazy.. Available only ...\n",
       "1      ham                      Ok lar... Joking wif u oni...\n",
       "2     spam  Free entry in 2 a wkly comp to win FA Cup fina...\n",
       "3      ham  U dun say so early hor... U c already then say...\n",
       "4      ham  Nah I don't think he goes to usf, he lives aro..."
      ]
     },
     "execution_count": 2,
     "metadata": {},
     "output_type": "execute_result"
    }
   ],
   "source": [
    "# importing dataset\n",
    "df = pd.read_csv('a01_spam.csv')\n",
    "df.head()"
   ]
  },
  {
   "cell_type": "code",
   "execution_count": 3,
   "id": "75865a8b",
   "metadata": {},
   "outputs": [
    {
     "data": {
      "text/html": [
       "<div>\n",
       "<style scoped>\n",
       "    .dataframe tbody tr th:only-of-type {\n",
       "        vertical-align: middle;\n",
       "    }\n",
       "\n",
       "    .dataframe tbody tr th {\n",
       "        vertical-align: top;\n",
       "    }\n",
       "\n",
       "    .dataframe thead th {\n",
       "        text-align: right;\n",
       "    }\n",
       "</style>\n",
       "<table border=\"1\" class=\"dataframe\">\n",
       "  <thead>\n",
       "    <tr style=\"text-align: right;\">\n",
       "      <th></th>\n",
       "      <th>Category</th>\n",
       "      <th>Message</th>\n",
       "    </tr>\n",
       "  </thead>\n",
       "  <tbody>\n",
       "    <tr>\n",
       "      <th>count</th>\n",
       "      <td>5572</td>\n",
       "      <td>5572</td>\n",
       "    </tr>\n",
       "    <tr>\n",
       "      <th>unique</th>\n",
       "      <td>2</td>\n",
       "      <td>5157</td>\n",
       "    </tr>\n",
       "    <tr>\n",
       "      <th>top</th>\n",
       "      <td>ham</td>\n",
       "      <td>Sorry, I'll call later</td>\n",
       "    </tr>\n",
       "    <tr>\n",
       "      <th>freq</th>\n",
       "      <td>4825</td>\n",
       "      <td>30</td>\n",
       "    </tr>\n",
       "  </tbody>\n",
       "</table>\n",
       "</div>"
      ],
      "text/plain": [
       "       Category                 Message\n",
       "count      5572                    5572\n",
       "unique        2                    5157\n",
       "top         ham  Sorry, I'll call later\n",
       "freq       4825                      30"
      ]
     },
     "execution_count": 3,
     "metadata": {},
     "output_type": "execute_result"
    }
   ],
   "source": [
    "# info about the dataset\n",
    "df.describe()"
   ]
  },
  {
   "cell_type": "code",
   "execution_count": 4,
   "id": "14cf2b10",
   "metadata": {},
   "outputs": [
    {
     "data": {
      "text/html": [
       "<div>\n",
       "<style scoped>\n",
       "    .dataframe tbody tr th:only-of-type {\n",
       "        vertical-align: middle;\n",
       "    }\n",
       "\n",
       "    .dataframe tbody tr th {\n",
       "        vertical-align: top;\n",
       "    }\n",
       "\n",
       "    .dataframe thead th {\n",
       "        text-align: right;\n",
       "    }\n",
       "</style>\n",
       "<table border=\"1\" class=\"dataframe\">\n",
       "  <thead>\n",
       "    <tr style=\"text-align: right;\">\n",
       "      <th></th>\n",
       "      <th>Category</th>\n",
       "      <th>Message</th>\n",
       "    </tr>\n",
       "  </thead>\n",
       "  <tbody>\n",
       "    <tr>\n",
       "      <th>103</th>\n",
       "      <td>ham</td>\n",
       "      <td>As per your request 'Melle Melle (Oru Minnamin...</td>\n",
       "    </tr>\n",
       "    <tr>\n",
       "      <th>154</th>\n",
       "      <td>ham</td>\n",
       "      <td>As per your request 'Melle Melle (Oru Minnamin...</td>\n",
       "    </tr>\n",
       "    <tr>\n",
       "      <th>207</th>\n",
       "      <td>ham</td>\n",
       "      <td>As I entered my cabin my PA said, '' Happy B'd...</td>\n",
       "    </tr>\n",
       "    <tr>\n",
       "      <th>223</th>\n",
       "      <td>ham</td>\n",
       "      <td>Sorry, I'll call later</td>\n",
       "    </tr>\n",
       "    <tr>\n",
       "      <th>326</th>\n",
       "      <td>ham</td>\n",
       "      <td>No calls..messages..missed calls</td>\n",
       "    </tr>\n",
       "  </tbody>\n",
       "</table>\n",
       "</div>"
      ],
      "text/plain": [
       "    Category                                            Message\n",
       "103      ham  As per your request 'Melle Melle (Oru Minnamin...\n",
       "154      ham  As per your request 'Melle Melle (Oru Minnamin...\n",
       "207      ham  As I entered my cabin my PA said, '' Happy B'd...\n",
       "223      ham                             Sorry, I'll call later\n",
       "326      ham                   No calls..messages..missed calls"
      ]
     },
     "execution_count": 4,
     "metadata": {},
     "output_type": "execute_result"
    }
   ],
   "source": [
    "#check for duplicates\n",
    "dup = df[df.duplicated()]\n",
    "dup.head()"
   ]
  },
  {
   "cell_type": "code",
   "execution_count": 5,
   "id": "457849f8",
   "metadata": {},
   "outputs": [
    {
     "data": {
      "text/html": [
       "<div>\n",
       "<style scoped>\n",
       "    .dataframe tbody tr th:only-of-type {\n",
       "        vertical-align: middle;\n",
       "    }\n",
       "\n",
       "    .dataframe tbody tr th {\n",
       "        vertical-align: top;\n",
       "    }\n",
       "\n",
       "    .dataframe thead th {\n",
       "        text-align: right;\n",
       "    }\n",
       "</style>\n",
       "<table border=\"1\" class=\"dataframe\">\n",
       "  <thead>\n",
       "    <tr style=\"text-align: right;\">\n",
       "      <th></th>\n",
       "      <th>Category</th>\n",
       "      <th>Message</th>\n",
       "    </tr>\n",
       "  </thead>\n",
       "  <tbody>\n",
       "    <tr>\n",
       "      <th>count</th>\n",
       "      <td>5157</td>\n",
       "      <td>5157</td>\n",
       "    </tr>\n",
       "    <tr>\n",
       "      <th>unique</th>\n",
       "      <td>2</td>\n",
       "      <td>5157</td>\n",
       "    </tr>\n",
       "    <tr>\n",
       "      <th>top</th>\n",
       "      <td>ham</td>\n",
       "      <td>Go until jurong point, crazy.. Available only ...</td>\n",
       "    </tr>\n",
       "    <tr>\n",
       "      <th>freq</th>\n",
       "      <td>4516</td>\n",
       "      <td>1</td>\n",
       "    </tr>\n",
       "  </tbody>\n",
       "</table>\n",
       "</div>"
      ],
      "text/plain": [
       "       Category                                            Message\n",
       "count      5157                                               5157\n",
       "unique        2                                               5157\n",
       "top         ham  Go until jurong point, crazy.. Available only ...\n",
       "freq       4516                                                  1"
      ]
     },
     "execution_count": 5,
     "metadata": {},
     "output_type": "execute_result"
    }
   ],
   "source": [
    "# removing duplicates\n",
    "df.drop_duplicates(inplace=True)\n",
    "df.describe()"
   ]
  },
  {
   "cell_type": "code",
   "execution_count": 6,
   "id": "dca2511a",
   "metadata": {},
   "outputs": [
    {
     "data": {
      "text/plain": [
       "Category    0\n",
       "Message     0\n",
       "dtype: int64"
      ]
     },
     "execution_count": 6,
     "metadata": {},
     "output_type": "execute_result"
    }
   ],
   "source": [
    "# check null values\n",
    "df.isnull().sum()"
   ]
  },
  {
   "cell_type": "markdown",
   "id": "f3aa201d",
   "metadata": {},
   "source": [
    "### preprocessing complete, proceed with the tasks"
   ]
  },
  {
   "cell_type": "markdown",
   "id": "2681260e",
   "metadata": {},
   "source": [
    "# Task 1: Counting words\n",
    "\n",
    "#### Tokenization of words using Regex tokenizer\n",
    "\n",
    "#### Punctuation and numbers are removed for better identification of actual words."
   ]
  },
  {
   "cell_type": "code",
   "execution_count": 7,
   "id": "853b43a0",
   "metadata": {},
   "outputs": [
    {
     "data": {
      "text/html": [
       "<div>\n",
       "<style scoped>\n",
       "    .dataframe tbody tr th:only-of-type {\n",
       "        vertical-align: middle;\n",
       "    }\n",
       "\n",
       "    .dataframe tbody tr th {\n",
       "        vertical-align: top;\n",
       "    }\n",
       "\n",
       "    .dataframe thead th {\n",
       "        text-align: right;\n",
       "    }\n",
       "</style>\n",
       "<table border=\"1\" class=\"dataframe\">\n",
       "  <thead>\n",
       "    <tr style=\"text-align: right;\">\n",
       "      <th></th>\n",
       "      <th>Category</th>\n",
       "      <th>Message</th>\n",
       "      <th>t1</th>\n",
       "    </tr>\n",
       "  </thead>\n",
       "  <tbody>\n",
       "    <tr>\n",
       "      <th>0</th>\n",
       "      <td>ham</td>\n",
       "      <td>Go until jurong point, crazy.. Available only ...</td>\n",
       "      <td>[Go, until, jurong, point, crazy, Available, o...</td>\n",
       "    </tr>\n",
       "    <tr>\n",
       "      <th>1</th>\n",
       "      <td>ham</td>\n",
       "      <td>Ok lar... Joking wif u oni...</td>\n",
       "      <td>[Ok, lar, Joking, wif, u, oni]</td>\n",
       "    </tr>\n",
       "    <tr>\n",
       "      <th>2</th>\n",
       "      <td>spam</td>\n",
       "      <td>Free entry in 2 a wkly comp to win FA Cup fina...</td>\n",
       "      <td>[Free, entry, in, a, wkly, comp, to, win, FA, ...</td>\n",
       "    </tr>\n",
       "    <tr>\n",
       "      <th>3</th>\n",
       "      <td>ham</td>\n",
       "      <td>U dun say so early hor... U c already then say...</td>\n",
       "      <td>[U, dun, say, so, early, hor, U, c, already, t...</td>\n",
       "    </tr>\n",
       "    <tr>\n",
       "      <th>4</th>\n",
       "      <td>ham</td>\n",
       "      <td>Nah I don't think he goes to usf, he lives aro...</td>\n",
       "      <td>[Nah, I, don, t, think, he, goes, to, usf, he,...</td>\n",
       "    </tr>\n",
       "  </tbody>\n",
       "</table>\n",
       "</div>"
      ],
      "text/plain": [
       "  Category                                            Message  \\\n",
       "0      ham  Go until jurong point, crazy.. Available only ...   \n",
       "1      ham                      Ok lar... Joking wif u oni...   \n",
       "2     spam  Free entry in 2 a wkly comp to win FA Cup fina...   \n",
       "3      ham  U dun say so early hor... U c already then say...   \n",
       "4      ham  Nah I don't think he goes to usf, he lives aro...   \n",
       "\n",
       "                                                  t1  \n",
       "0  [Go, until, jurong, point, crazy, Available, o...  \n",
       "1                     [Ok, lar, Joking, wif, u, oni]  \n",
       "2  [Free, entry, in, a, wkly, comp, to, win, FA, ...  \n",
       "3  [U, dun, say, so, early, hor, U, c, already, t...  \n",
       "4  [Nah, I, don, t, think, he, goes, to, usf, he,...  "
      ]
     },
     "execution_count": 7,
     "metadata": {},
     "output_type": "execute_result"
    }
   ],
   "source": [
    "# removing punctuation and numbers\n",
    "from nltk.tokenize import RegexpTokenizer\n",
    "tokenizer = RegexpTokenizer('[a-zA-Z]+')\n",
    "\n",
    "df['t1'] = df.Message.apply(tokenizer.tokenize)\n",
    "df.head()"
   ]
  },
  {
   "cell_type": "code",
   "execution_count": 8,
   "id": "17fa8719",
   "metadata": {},
   "outputs": [
    {
     "name": "stdout",
     "output_type": "stream",
     "text": [
      "Total number of words starting with vowels: 19923\n",
      "Total number of words starting with consonants: 60086\n"
     ]
    }
   ],
   "source": [
    "ccount = 0\n",
    "vcount = 0\n",
    "vowels = ('a', 'e', 'i', 'o', 'u', 'A', 'E', 'I', 'O', 'U')\n",
    "for words in df['t1']:\n",
    "    for word in words:\n",
    "        if(word.startswith(vowels)):\n",
    "            vcount +=  1\n",
    "        else:\n",
    "            ccount += 1\n",
    "\n",
    "print('Total number of words starting with vowels:', vcount)\n",
    "print('Total number of words starting with consonants:', ccount)"
   ]
  },
  {
   "cell_type": "markdown",
   "id": "31d0573d",
   "metadata": {},
   "source": [
    "# Task 2: Capitalised words\n",
    "#### We separate the data for ham and spam messages"
   ]
  },
  {
   "cell_type": "code",
   "execution_count": 9,
   "id": "06178c47",
   "metadata": {},
   "outputs": [
    {
     "name": "stdout",
     "output_type": "stream",
     "text": [
      "number of ham messages: 4516\n",
      "number of spam messages: 641\n"
     ]
    }
   ],
   "source": [
    "df_ham = df[df.Category == 'ham']\n",
    "df_spam = df[df.Category == 'spam']\n",
    "print('number of ham messages:', len(df_ham))\n",
    "print('number of spam messages:', len(df_spam))"
   ]
  },
  {
   "cell_type": "code",
   "execution_count": 10,
   "id": "553f85ed",
   "metadata": {},
   "outputs": [
    {
     "name": "stdout",
     "output_type": "stream",
     "text": [
      "Percentage of capitalised word in ham messages: 6.656884 %\n"
     ]
    }
   ],
   "source": [
    "# Checking ham messages\n",
    "capcount = 0\n",
    "count = 0\n",
    "\n",
    "for words in df_ham['t1']:\n",
    "    count += len(words)\n",
    "    for word in words:\n",
    "        if(word.isupper()):\n",
    "            capcount +=  1\n",
    "\n",
    "percent = capcount/count * 100\n",
    "print('Percentage of capitalised word in ham messages: %f' % (percent), '%')"
   ]
  },
  {
   "cell_type": "code",
   "execution_count": 11,
   "id": "dfa7c6b9",
   "metadata": {},
   "outputs": [
    {
     "name": "stdout",
     "output_type": "stream",
     "text": [
      "Percentage of capitalised word in spam messages: 13.675624 %\n"
     ]
    }
   ],
   "source": [
    "# Checking spam messages\n",
    "capcount = 0\n",
    "count = 0\n",
    "\n",
    "for words in df_spam['t1']:\n",
    "    count += len(words)\n",
    "    for word in words:\n",
    "        if(word.isupper()):\n",
    "            capcount +=  1\n",
    "\n",
    "percent = capcount/count * 100\n",
    "print('Percentage of capitalised word in spam messages: %f' % (percent), '%')"
   ]
  },
  {
   "cell_type": "markdown",
   "id": "087c3815",
   "metadata": {},
   "source": [
    "# Task 3: Email IDs and Phone Numbers\n",
    "#### Check original messages for email IDs and phone numbers"
   ]
  },
  {
   "cell_type": "code",
   "execution_count": 12,
   "id": "60d3a78e",
   "metadata": {},
   "outputs": [],
   "source": [
    "emails = {}\n",
    "phone_nums = {}\n",
    "\n",
    "mailregex = '[a-zA-Z0-9_.+-]+@[a-zA-Z0-9-]+\\.[a-zA-Z0-9-.]+'\n",
    "phoneregex = '[\\+]?[(]?[0-9]{3}[)]?[-\\s\\.]?[0-9]{3}[-\\s\\.]?[0-9]{4,6}'"
   ]
  },
  {
   "cell_type": "code",
   "execution_count": 13,
   "id": "d65b01fe",
   "metadata": {},
   "outputs": [
    {
     "name": "stdout",
     "output_type": "stream",
     "text": [
      "Percentage of ham messages containing emails: 0.022143 %\n",
      "Percentage of ham messages containing phone numbers: 0.022143 %\n"
     ]
    }
   ],
   "source": [
    "ham_mailcount = 0\n",
    "ham_phonecount = 0\n",
    "\n",
    "for message in df_ham['Message']:\n",
    "    elist = re.findall(mailregex, message)\n",
    "    plist = re.findall(phoneregex, message)\n",
    "    if(len(elist)>0):\n",
    "        ham_mailcount += 1\n",
    "    if(len(plist)>0):\n",
    "        ham_phonecount += 1\n",
    "\n",
    "    # creating dictionary of emails and phone numbers\n",
    "    for mail in elist:\n",
    "        if(mail in emails):\n",
    "            emails[mail] += 1\n",
    "        else:\n",
    "            emails[mail] = 1\n",
    "    for pnum in plist:\n",
    "        if(pnum in phone_nums):\n",
    "            phone_nums[pnum] += 1\n",
    "        else:\n",
    "            phone_nums[pnum] = 1\n",
    "\n",
    "epercent = ham_mailcount/len(df_ham) * 100\n",
    "ppercent = ham_phonecount/len(df_ham) * 100\n",
    "print('Percentage of ham messages containing emails: %f' % (epercent), '%')\n",
    "print('Percentage of ham messages containing phone numbers: %f' % (ppercent), '%')"
   ]
  },
  {
   "cell_type": "code",
   "execution_count": 14,
   "id": "aeaa3f39",
   "metadata": {},
   "outputs": [
    {
     "name": "stdout",
     "output_type": "stream",
     "text": [
      "Percentage of spam messages containing emails: 0.936037 %\n",
      "Percentage of spam messages containing phone numbers: 56.474259 %\n"
     ]
    }
   ],
   "source": [
    "spam_mailcount = 0\n",
    "spam_phonecount = 0\n",
    "\n",
    "for message in df_spam['Message']:\n",
    "    elist = re.findall(mailregex, message)\n",
    "    plist = re.findall(phoneregex, message)\n",
    "    if(len(elist)>0):\n",
    "        spam_mailcount += 1\n",
    "    if(len(plist)>0):\n",
    "        spam_phonecount += 1\n",
    "\n",
    "    # creating dictionary of emails and phone numbers\n",
    "    for mail in elist:\n",
    "        if(mail in emails):\n",
    "            emails[mail] += 1\n",
    "        else:\n",
    "            emails[mail] = 1\n",
    "    for pnum in plist:\n",
    "        if(pnum in phone_nums):\n",
    "            phone_nums[pnum] += 1\n",
    "        else:\n",
    "            phone_nums[pnum] = 1\n",
    "\n",
    "epercent = spam_mailcount/len(df_spam) * 100\n",
    "ppercent = spam_phonecount/len(df_spam) * 100\n",
    "print('Percentage of spam messages containing emails: %f' % (epercent), '%')\n",
    "print('Percentage of spam messages containing phone numbers: %f' % (ppercent), '%')"
   ]
  },
  {
   "cell_type": "code",
   "execution_count": 15,
   "id": "cab0f334",
   "metadata": {},
   "outputs": [
    {
     "name": "stdout",
     "output_type": "stream",
     "text": [
      "Total Number of emails found: 7\n",
      "In ham messages: 1\n",
      "In spam messages: 6\n",
      "Number of unique terms: 7\n"
     ]
    },
    {
     "data": {
      "text/plain": [
       "{'yijue@hotmail.com': 1,\n",
       " 'info@ringtoneking.co.uk': 1,\n",
       " 'tddnewsletter@emc1.co.uk': 1,\n",
       " 'info@txt82228.co.uk': 1,\n",
       " 'Dorothy@kiefer.com': 1,\n",
       " 'msg+ticket@kiosk.Valid': 1,\n",
       " 'customersqueries@netvision.uk.com': 1}"
      ]
     },
     "execution_count": 15,
     "metadata": {},
     "output_type": "execute_result"
    }
   ],
   "source": [
    "print('Total Number of emails found:', ham_mailcount+spam_mailcount)\n",
    "print('In ham messages:', ham_mailcount)\n",
    "print('In spam messages:', spam_mailcount)\n",
    "print('Number of unique terms:', len(emails))\n",
    "emails"
   ]
  },
  {
   "cell_type": "code",
   "execution_count": 16,
   "id": "5b74b7e0",
   "metadata": {},
   "outputs": [
    {
     "name": "stdout",
     "output_type": "stream",
     "text": [
      "Total Number of phone numbers found: 363\n",
      "In ham messages: 1\n",
      "In spam messages: 362\n",
      "Number of unique terms: 282\n"
     ]
    },
    {
     "data": {
      "text/plain": [
       "{'0125698789': 1,\n",
       " '08452810075': 1,\n",
       " '09061701461': 1,\n",
       " '08002986030': 1,\n",
       " '07732584351': 1,\n",
       " '08000930705': 16,\n",
       " '09061209465': 1,\n",
       " '09066364589': 1,\n",
       " '800 169 6031': 1,\n",
       " '09064012160': 1,\n",
       " '087127781091': 1,\n",
       " '07742676969': 1,\n",
       " '08719180248': 1,\n",
       " '09064019788': 1,\n",
       " '08712300220': 6,\n",
       " '087006211701': 3,\n",
       " '07046744435': 1,\n",
       " '087127781081': 1,\n",
       " '09061701939': 1,\n",
       " '808 145 4742': 1,\n",
       " '087187262701': 3,\n",
       " '447801259231': 1,\n",
       " '09058094597': 1,\n",
       " '845 021 3680': 2,\n",
       " '08002986906': 2,\n",
       " '08718720201': 7,\n",
       " '08708800282': 1,\n",
       " '08000839402': 12,\n",
       " '08717205546': 1,\n",
       " '09057039994': 1,\n",
       " '08000938767': 2,\n",
       " '845 2814032': 1,\n",
       " '09064012103': 1,\n",
       " '07123456789': 2,\n",
       " '09111032124': 1,\n",
       " '09058094455': 1,\n",
       " '09066382422': 1,\n",
       " '800 1956669': 1,\n",
       " '207 153 9153': 1,\n",
       " '09061743806': 2,\n",
       " '07781482378': 1,\n",
       " '871-872-9755': 1,\n",
       " '08717898035': 2,\n",
       " '07815296484': 1,\n",
       " '08718738001': 2,\n",
       " '09050000327': 2,\n",
       " '09050005321': 1,\n",
       " '08002988890': 1,\n",
       " '08715705022': 3,\n",
       " '08712402050': 2,\n",
       " '07753741225': 1,\n",
       " '08715203677': 1,\n",
       " '800 542 0825': 1,\n",
       " '07946746291': 1,\n",
       " '07880867867': 1,\n",
       " '09064019014': 1,\n",
       " '08715203694': 1,\n",
       " '08718711108': 1,\n",
       " '08452810071': 1,\n",
       " '448712404000': 1,\n",
       " '08712404000': 1,\n",
       " '08714712388': 1,\n",
       " '08714712394': 1,\n",
       " '08706091795': 2,\n",
       " '08704439680': 2,\n",
       " '09066368327': 1,\n",
       " '087147403231': 3,\n",
       " '800 542 0578': 2,\n",
       " '087018728737': 1,\n",
       " '08718727870': 3,\n",
       " '207 153 9996': 1,\n",
       " '08000407165': 2,\n",
       " '08702840625': 3,\n",
       " '08701417012': 3,\n",
       " '09065174042': 1,\n",
       " '07821230901': 1,\n",
       " '08002888812': 2,\n",
       " '09066350750': 1,\n",
       " '09061104283': 1,\n",
       " '08719899217': 1,\n",
       " '800 0721072': 1,\n",
       " '09064011000': 1,\n",
       " '09058094565': 2,\n",
       " '09065171142': 2,\n",
       " '08709222922': 2,\n",
       " '08712460324': 8,\n",
       " '09063440451': 1,\n",
       " '09061749602': 1,\n",
       " '09050001808': 1,\n",
       " '09063458130': 2,\n",
       " '09065394514': 1,\n",
       " '09058097218': 1,\n",
       " '09058091854': 1,\n",
       " '09050003091': 2,\n",
       " '09061221061': 1,\n",
       " '09061790121': 2,\n",
       " '449050000301': 1,\n",
       " '09050000301': 1,\n",
       " '08000776320': 2,\n",
       " '08707808226': 1,\n",
       " '08450542832': 1,\n",
       " '08719181503': 1,\n",
       " '08719181513': 1,\n",
       " '087004355051': 1,\n",
       " '08712405020': 4,\n",
       " '08712402779': 1,\n",
       " '08718730555': 1,\n",
       " '09096102316': 1,\n",
       " '09701213186': 1,\n",
       " '087024118271': 1,\n",
       " '08707509020': 4,\n",
       " '08718730666': 2,\n",
       " '08714742804': 1,\n",
       " '09099725823': 1,\n",
       " '09066362231': 3,\n",
       " '07801543489': 1,\n",
       " '09099726395': 1,\n",
       " '08719899230': 1,\n",
       " '08701237397': 1,\n",
       " '09058094599': 1,\n",
       " '02072069400': 1,\n",
       " '08712317606': 2,\n",
       " '08712405022': 2,\n",
       " '09071512433': 1,\n",
       " '09099726429': 1,\n",
       " '09050001295': 1,\n",
       " '09063442151': 1,\n",
       " '09094646899': 1,\n",
       " '09041940223': 1,\n",
       " '08081560665': 1,\n",
       " '07786200117': 1,\n",
       " '09111030116': 1,\n",
       " '07734396839': 1,\n",
       " '09064018838': 1,\n",
       " '09050280520': 1,\n",
       " '08001950382': 4,\n",
       " '08718726970': 1,\n",
       " '09058094594': 1,\n",
       " '09061743811': 1,\n",
       " '09090900040': 1,\n",
       " '087075333101': 1,\n",
       " '08452810073': 2,\n",
       " '08715500022': 1,\n",
       " '08702490080': 1,\n",
       " '09066358152': 2,\n",
       " '09090204448': 1,\n",
       " '09050090044': 3,\n",
       " '09065394973': 1,\n",
       " '09061743810': 1,\n",
       " '087124006024': 2,\n",
       " '08006344447': 1,\n",
       " '09094100151': 1,\n",
       " '09066362220': 1,\n",
       " '08700469649': 1,\n",
       " '087123002209': 1,\n",
       " '08717168528': 1,\n",
       " '08714712379': 1,\n",
       " '09065069120': 1,\n",
       " '09099726481': 1,\n",
       " '09065069154': 1,\n",
       " '01223585334': 1,\n",
       " '08718738034': 1,\n",
       " '09056242159': 2,\n",
       " '008704050406': 2,\n",
       " '08718726971': 1,\n",
       " '09066368753': 1,\n",
       " '08712402902': 1,\n",
       " '087014170121': 2,\n",
       " '087121202501': 1,\n",
       " '09058098002': 1,\n",
       " '09066612661': 3,\n",
       " '09061701444': 1,\n",
       " '08704050406': 1,\n",
       " '087073791021': 1,\n",
       " '09066362206': 1,\n",
       " '09050000555': 1,\n",
       " '08715203028': 1,\n",
       " '08712103738': 1,\n",
       " '09058099801': 1,\n",
       " '09058094454': 1,\n",
       " '08712400200': 1,\n",
       " '08718723815': 1,\n",
       " '08714714011': 1,\n",
       " '08712400603': 1,\n",
       " '08708034412': 2,\n",
       " '09053750005': 1,\n",
       " '08718725756': 1,\n",
       " '08712101358': 1,\n",
       " '09066358361': 1,\n",
       " '09065989180': 1,\n",
       " '08718726978': 1,\n",
       " '7732584351': 1,\n",
       " '09058097189': 1,\n",
       " '09061221066': 2,\n",
       " '09050000928': 1,\n",
       " '07090201529': 1,\n",
       " '09066364349': 1,\n",
       " '08081263000': 1,\n",
       " '08712402972': 1,\n",
       " '09058095201': 1,\n",
       " '09066368470': 1,\n",
       " '08448714184': 1,\n",
       " '09099726553': 1,\n",
       " '01223585236': 1,\n",
       " '+447797706009': 1,\n",
       " '09050000878': 1,\n",
       " '09071517866': 1,\n",
       " '08701752560': 1,\n",
       " '9061100010': 1,\n",
       " '09050000460': 1,\n",
       " '02085076972': 1,\n",
       " '09066660100': 1,\n",
       " '07090298926': 1,\n",
       " '087147123779': 1,\n",
       " '09065989182': 2,\n",
       " '09058095107': 1,\n",
       " '08718728876': 1,\n",
       " '08717895698': 1,\n",
       " '08712466669': 1,\n",
       " '09061701851': 1,\n",
       " '09061104276': 1,\n",
       " '08717890890': 1,\n",
       " '09061702893': 2,\n",
       " '08719181259': 1,\n",
       " '800 195 6669': 1,\n",
       " '09061743386': 1,\n",
       " '087104711148': 1,\n",
       " '09066364311': 1,\n",
       " '08709501522': 1,\n",
       " '09064017305': 1,\n",
       " '08717111821': 1,\n",
       " '07973788240': 1,\n",
       " '08715203649': 1,\n",
       " '08714342399': 1,\n",
       " '08707500020': 1,\n",
       " '09061790125': 1,\n",
       " '0906346330': 1,\n",
       " '07008009200': 1,\n",
       " '08712402578': 1,\n",
       " '09061744553': 1,\n",
       " '09058091870': 1,\n",
       " '8000930705': 1,\n",
       " '08719839835': 1,\n",
       " '02073162414': 2,\n",
       " '09071512432': 1,\n",
       " '087187278701': 1,\n",
       " '08717509990': 1,\n",
       " '09066380611': 1,\n",
       " '08718738002': 1,\n",
       " '07099833605': 1,\n",
       " '07808726822': 1,\n",
       " '871-872-9758': 1,\n",
       " '09066649731': 1,\n",
       " '09077818151': 1,\n",
       " '08719180219': 1,\n",
       " '087127781071': 1,\n",
       " '08715203652': 1,\n",
       " '08718726270': 2,\n",
       " '09058094507': 1,\n",
       " '08714712412': 1,\n",
       " '08715203685': 1,\n",
       " '09094646631': 1,\n",
       " '08701213186': 1,\n",
       " '08714740323': 1,\n",
       " '09066361921': 1,\n",
       " '08715205273': 1,\n",
       " '08715203656': 1,\n",
       " '09064015307': 1,\n",
       " '09061213237': 2,\n",
       " '09061790126': 1,\n",
       " '09095350301': 1,\n",
       " '08717507382': 1,\n",
       " '207-083-6089': 1,\n",
       " '09058094583': 1,\n",
       " '121 2025050': 1,\n",
       " '1705572711': 1,\n",
       " '09050000332': 1,\n",
       " '09064017295': 1,\n",
       " '08448350055': 1,\n",
       " '07808247860': 1,\n",
       " '08719899229': 1,\n",
       " '087187272008': 1}"
      ]
     },
     "execution_count": 16,
     "metadata": {},
     "output_type": "execute_result"
    }
   ],
   "source": [
    "print('Total Number of phone numbers found:', ham_phonecount+spam_phonecount)\n",
    "print('In ham messages:', ham_phonecount)\n",
    "print('In spam messages:', spam_phonecount)\n",
    "print('Number of unique terms:', len(phone_nums))\n",
    "phone_nums"
   ]
  },
  {
   "cell_type": "code",
   "execution_count": 17,
   "id": "7aff4211",
   "metadata": {},
   "outputs": [
    {
     "name": "stdout",
     "output_type": "stream",
     "text": [
      "Percentage of total messages with emails that are spam: 85.714286 %\n",
      "Percentage of total messages with phone numbers that are spam: 99.724518 %\n"
     ]
    }
   ],
   "source": [
    "totalmailmessage = spam_mailcount + ham_mailcount\n",
    "totalphonemessage = spam_phonecount + ham_phonecount\n",
    "\n",
    "sepercent = spam_mailcount / totalmailmessage * 100\n",
    "sppercent = spam_phonecount / totalphonemessage * 100\n",
    "\n",
    "print('Percentage of total messages with emails that are spam: %f' %(sepercent), '%')\n",
    "print('Percentage of total messages with phone numbers that are spam: %f' %(sppercent), '%')"
   ]
  },
  {
   "cell_type": "code",
   "execution_count": 18,
   "id": "f76a7117",
   "metadata": {},
   "outputs": [
    {
     "name": "stdout",
     "output_type": "stream",
     "text": [
      "Percentage of total messages with emails that are ham: 14.285714 %\n",
      "Percentage of total messages with phone numbers that are ham: 0.275482 %\n"
     ]
    }
   ],
   "source": [
    "hepercent = ham_mailcount / totalmailmessage * 100\n",
    "hppercent = ham_phonecount / totalphonemessage * 100\n",
    "\n",
    "print('Percentage of total messages with emails that are ham: %f' %(hepercent), '%')\n",
    "print('Percentage of total messages with phone numbers that are ham: %f' %(hppercent), '%')"
   ]
  },
  {
   "cell_type": "markdown",
   "id": "ebd50f24",
   "metadata": {},
   "source": [
    "# Task 4: Counting Currencies\n",
    "#### Check original messages for any currency symbols"
   ]
  },
  {
   "cell_type": "code",
   "execution_count": 303,
   "id": "4c704b68",
   "metadata": {},
   "outputs": [],
   "source": [
    "moneyregex = '([\\£\\$\\€\\¥]{1}[ ]*[,\\d]+\\.?\\d*)'\n",
    "moneyregex = '([\\£\\$\\€\\¥]{1}[ ]*[,\\d]+\\.?\\d*|[,\\d]+\\.?\\d*[ ]*pounds?)'\n",
    "spam_moneycount = 0\n",
    "ham_moneycount = 0\n",
    "mvalues = set()"
   ]
  },
  {
   "cell_type": "code",
   "execution_count": 304,
   "id": "88e3c97f",
   "metadata": {},
   "outputs": [
    {
     "name": "stdout",
     "output_type": "stream",
     "text": [
      "Percentage of ham messages containing monetary values: 0.287865 %\n"
     ]
    }
   ],
   "source": [
    "for message in df_ham['Message']:\n",
    "    mlist = re.findall(moneyregex, message)\n",
    "    if(len(mlist)>0):\n",
    "        ham_moneycount += 1\n",
    "\n",
    "    # creating set of monetary values\n",
    "    for money in mlist:\n",
    "        mvalues.add(money)\n",
    "\n",
    "mpercent = ham_moneycount/len(df_ham) * 100\n",
    "print('Percentage of ham messages containing monetary values: %f' % (mpercent), '%')"
   ]
  },
  {
   "cell_type": "code",
   "execution_count": 305,
   "id": "9f56eabc",
   "metadata": {},
   "outputs": [
    {
     "name": "stdout",
     "output_type": "stream",
     "text": [
      "Percentage of spam messages containing monetary values: 34.789392 %\n"
     ]
    }
   ],
   "source": [
    "for message in df_spam['Message']:\n",
    "    mlist = re.findall(moneyregex, message)\n",
    "    if(len(mlist)>0):\n",
    "        spam_moneycount += 1\n",
    "\n",
    "    # creating set of monetary values\n",
    "    for money in mlist:\n",
    "        mvalues.add(money)\n",
    "\n",
    "mpercent = spam_moneycount/len(df_spam) * 100\n",
    "print('Percentage of spam messages containing monetary values: %f' % (mpercent), '%')"
   ]
  },
  {
   "cell_type": "code",
   "execution_count": 306,
   "id": "8b3741e5",
   "metadata": {},
   "outputs": [
    {
     "name": "stdout",
     "output_type": "stream",
     "text": [
      "Total Number of monetary terms found: 236\n",
      "In ham messages: 13\n",
      "In spam messages: 223\n",
      "Number of unique terms: 71\n"
     ]
    },
    {
     "data": {
      "text/plain": [
       "{'$1',\n",
       " '$140',\n",
       " '$180',\n",
       " '$2',\n",
       " '$350',\n",
       " '$5.00',\n",
       " '$50',\n",
       " '$50.',\n",
       " '$700',\n",
       " '$900',\n",
       " '$900.',\n",
       " '$95',\n",
       " '2.50 pounds',\n",
       " '20,000 pounds',\n",
       " '2000 pound',\n",
       " '3 pound',\n",
       " '3750 pounds',\n",
       " '4 pounds',\n",
       " '500 pounds',\n",
       " '5000 pounds',\n",
       " '£1',\n",
       " '£1,50',\n",
       " '£1,500',\n",
       " '£1.',\n",
       " '£1.50',\n",
       " '£10',\n",
       " '£10,000',\n",
       " '£100',\n",
       " '£100,000',\n",
       " '£1000',\n",
       " '£1000.',\n",
       " '£12',\n",
       " '£125',\n",
       " '£1250',\n",
       " '£1450',\n",
       " '£150',\n",
       " '£1500',\n",
       " '£2,000',\n",
       " '£2.50',\n",
       " '£200',\n",
       " '£2000',\n",
       " '£250',\n",
       " '£3',\n",
       " '£3.00',\n",
       " '£3.75',\n",
       " '£3.99',\n",
       " '£33',\n",
       " '£33.65',\n",
       " '£350',\n",
       " '£38',\n",
       " '£4.50',\n",
       " '£400',\n",
       " '£450',\n",
       " '£48,',\n",
       " '£5',\n",
       " '£50',\n",
       " '£500',\n",
       " '£500.',\n",
       " '£5000',\n",
       " '£5000,',\n",
       " '£5000.00',\n",
       " '£54.',\n",
       " '£6',\n",
       " '£600.',\n",
       " '£7.',\n",
       " '£71.',\n",
       " '£75,000.',\n",
       " '£750',\n",
       " '£79',\n",
       " '£800',\n",
       " '£900'}"
      ]
     },
     "execution_count": 306,
     "metadata": {},
     "output_type": "execute_result"
    }
   ],
   "source": [
    "print('Total Number of monetary terms found:', ham_moneycount+spam_moneycount)\n",
    "print('In ham messages:', ham_moneycount)\n",
    "print('In spam messages:', spam_moneycount)\n",
    "print('Number of unique terms:', len(mvalues))\n",
    "\n",
    "mvalues"
   ]
  },
  {
   "cell_type": "code",
   "execution_count": null,
   "id": "985aba19",
   "metadata": {},
   "outputs": [],
   "source": []
  },
  {
   "cell_type": "code",
   "execution_count": 23,
   "id": "41d8f8c1",
   "metadata": {},
   "outputs": [
    {
     "name": "stdout",
     "output_type": "stream",
     "text": [
      "number of unique words:  9973\n"
     ]
    }
   ],
   "source": [
    "# creating the vocabulary\n",
    "vocab = []\n",
    "for index, row in df.iterrows():\n",
    "    vocab = vocab + row['t1']\n",
    "\n",
    "vocab = set(vocab)\n",
    "print('number of unique words: ', len(vocab))"
   ]
  }
 ],
 "metadata": {
  "kernelspec": {
   "display_name": "Python 3 (ipykernel)",
   "language": "python",
   "name": "python3"
  },
  "language_info": {
   "codemirror_mode": {
    "name": "ipython",
    "version": 3
   },
   "file_extension": ".py",
   "mimetype": "text/x-python",
   "name": "python",
   "nbconvert_exporter": "python",
   "pygments_lexer": "ipython3",
   "version": "3.9.6"
  }
 },
 "nbformat": 4,
 "nbformat_minor": 5
}
