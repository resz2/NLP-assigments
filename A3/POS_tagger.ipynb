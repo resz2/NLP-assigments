{
 "cells": [
  {
   "cell_type": "code",
   "execution_count": 1,
   "id": "c75dde0b",
   "metadata": {},
   "outputs": [],
   "source": [
    "import nltk\n",
    "import re\n",
    "import string\n",
    "import numpy as np\n",
    "import pandas as pd\n",
    "import matplotlib.pyplot as plt\n",
    "from nltk.tokenize import word_tokenize"
   ]
  },
  {
   "cell_type": "code",
   "execution_count": 2,
   "id": "e409aa58",
   "metadata": {},
   "outputs": [],
   "source": [
    "file = open('Brown_tagged_train.txt', 'r', encoding = 'utf8')\n",
    "linesOG = []\n",
    "\n",
    "for i in file:\n",
    "    linesOG.append(i.replace('\\n', '').split())"
   ]
  },
  {
   "cell_type": "code",
   "execution_count": 3,
   "id": "a24c8acd",
   "metadata": {},
   "outputs": [],
   "source": [
    "tagged_words = []\n",
    "for line in linesOG:\n",
    "    for i in range(len(line)):\n",
    "        line[i] = line[i].split('/')\n",
    "        tagged_words.append(line[i])\n",
    "        if(len(line[i]) > 2):\n",
    "            for j in range(1, len(line[i])-1):\n",
    "                line[i][0] = line[i][0] + '/' + line[i][j]\n",
    "            for j in range(len(line[i])-2):\n",
    "                line[i].pop(-2)"
   ]
  },
  {
   "cell_type": "code",
   "execution_count": 4,
   "id": "c1132850",
   "metadata": {},
   "outputs": [
    {
     "data": {
      "text/plain": [
       "543149"
      ]
     },
     "execution_count": 4,
     "metadata": {},
     "output_type": "execute_result"
    }
   ],
   "source": [
    "lines = linesOG\n",
    "len(tagged_words)"
   ]
  },
  {
   "cell_type": "code",
   "execution_count": 5,
   "id": "ff0985d3",
   "metadata": {},
   "outputs": [
    {
     "data": {
      "text/plain": [
       "['At',\n",
       " 'that',\n",
       " 'time',\n",
       " 'highway',\n",
       " 'engineers',\n",
       " 'traveled',\n",
       " 'rough',\n",
       " 'and',\n",
       " 'dirty',\n",
       " 'roads']"
      ]
     },
     "execution_count": 5,
     "metadata": {},
     "output_type": "execute_result"
    }
   ],
   "source": [
    "words = [pair[0] for pair in tagged_words]\n",
    "words[:10]"
   ]
  },
  {
   "cell_type": "code",
   "execution_count": 6,
   "id": "f0dfe911",
   "metadata": {},
   "outputs": [
    {
     "data": {
      "text/plain": [
       "33643"
      ]
     },
     "execution_count": 6,
     "metadata": {},
     "output_type": "execute_result"
    }
   ],
   "source": [
    "vocab = list(set(pair[0] for pair in tagged_words))\n",
    "len(vocab)"
   ]
  },
  {
   "cell_type": "code",
   "execution_count": 7,
   "id": "33912046",
   "metadata": {},
   "outputs": [
    {
     "data": {
      "text/plain": [
       "12"
      ]
     },
     "execution_count": 7,
     "metadata": {},
     "output_type": "execute_result"
    }
   ],
   "source": [
    "tags = list(set(pair[1] for pair in tagged_words))\n",
    "len(tags)"
   ]
  },
  {
   "cell_type": "code",
   "execution_count": 8,
   "id": "7c2edd96",
   "metadata": {},
   "outputs": [
    {
     "data": {
      "text/plain": [
       "['ADP',\n",
       " 'PRON',\n",
       " 'NOUN',\n",
       " 'DET',\n",
       " 'PRT',\n",
       " 'CONJ',\n",
       " 'ADV',\n",
       " 'X',\n",
       " 'NUM',\n",
       " 'ADJ',\n",
       " 'VERB',\n",
       " '.']"
      ]
     },
     "execution_count": 8,
     "metadata": {},
     "output_type": "execute_result"
    }
   ],
   "source": [
    "tags"
   ]
  },
  {
   "cell_type": "code",
   "execution_count": 9,
   "id": "823f687e",
   "metadata": {},
   "outputs": [],
   "source": [
    "# by tags\n",
    "from collections import defaultdict\n",
    "\n",
    "def bytag(data):\n",
    "    bytags = defaultdict(list)\n",
    "    for pair in data:\n",
    "        bytags[pair[1]].append(pair[0])\n",
    "    return bytags"
   ]
  },
  {
   "cell_type": "markdown",
   "id": "d3157eb3",
   "metadata": {},
   "source": [
    "## Part 1"
   ]
  },
  {
   "cell_type": "markdown",
   "id": "459a1023",
   "metadata": {},
   "source": [
    "### Calculating emission and transition probabilities"
   ]
  },
  {
   "cell_type": "code",
   "execution_count": 10,
   "id": "d5a8050c",
   "metadata": {},
   "outputs": [],
   "source": [
    "# emission probability\n",
    "def prob_word_given_tag(word, tag, bytags):\n",
    "    count_tag = len(bytags[tag])\n",
    "    count = bytags[tag].count(word)\n",
    "    return count/count_tag"
   ]
  },
  {
   "cell_type": "code",
   "execution_count": 11,
   "id": "8b9714eb",
   "metadata": {},
   "outputs": [],
   "source": [
    "def calcemission(data):\n",
    "    emissionProb = defaultdict(lambda: defaultdict(float))\n",
    "    bytags = bytag(data)\n",
    "    words = [pair[0] for pair in data]\n",
    "    words = list(set(words))\n",
    "    for tag in tags:\n",
    "        for word in words:\n",
    "            emissionProb[tag][word] = prob_word_given_tag(word, tag, bytags)\n",
    "    return emissionProb"
   ]
  },
  {
   "cell_type": "code",
   "execution_count": 12,
   "id": "950ababa",
   "metadata": {},
   "outputs": [],
   "source": [
    "# transition probability\n",
    "def prob_tag2_given_tag1(tag1, tag2, data):\n",
    "    tag1count = 0\n",
    "    tag1tag2count = 0\n",
    "    for i, pair in enumerate(data):\n",
    "        if(pair[1] == tag1):\n",
    "            tag1count += 1\n",
    "            if((i+1) < len(data)):\n",
    "                if(data[i+1][1] == tag2):\n",
    "                    tag1tag2count += 1\n",
    "    return tag1tag2count/tag1count"
   ]
  },
  {
   "cell_type": "code",
   "execution_count": 13,
   "id": "d7014866",
   "metadata": {},
   "outputs": [],
   "source": [
    "def calctransition(data):\n",
    "    transitionProb = defaultdict(lambda: defaultdict(float))\n",
    "    for tag1 in tags:\n",
    "        for tag2 in tags:\n",
    "            transitionProb[tag1][tag2] = prob_tag2_given_tag1(tag1, tag2, data)\n",
    "    return transitionProb"
   ]
  },
  {
   "cell_type": "markdown",
   "id": "b6d34eef",
   "metadata": {},
   "source": [
    "### Viterbi algorithm"
   ]
  },
  {
   "cell_type": "code",
   "execution_count": 14,
   "id": "7ce0128d",
   "metadata": {},
   "outputs": [],
   "source": [
    "def viterbi(test_words, eprobs, tprobs):\n",
    "    pred_tags = []\n",
    "    for i, pair in enumerate(test_words):\n",
    "        probmax = 0.0\n",
    "        # NOUN is used as the default tag under the assumption that most unknown words would be nouns\n",
    "        tagmax = None\n",
    "        for tag in tags:\n",
    "            eprob = eprobs[tag][pair[0]]\n",
    "            if(i==0):\n",
    "                tprob = tprobs['.'][tag]\n",
    "            else:\n",
    "                tprob = tprobs[pred_tags[i-1][1]][tag]\n",
    "            stateprob = eprob * tprob    \n",
    "            if(stateprob > probmax):\n",
    "                probmax = stateprob\n",
    "                tagmax = tag\n",
    "        pred_tags.append([pair[0], tagmax])\n",
    "    \n",
    "    return pred_tags"
   ]
  },
  {
   "cell_type": "markdown",
   "id": "d753bb9c",
   "metadata": {},
   "source": [
    "### Testing using 3 fold CV"
   ]
  },
  {
   "cell_type": "code",
   "execution_count": 15,
   "id": "4d3aeb9b",
   "metadata": {},
   "outputs": [],
   "source": [
    "def accuracy(test, pred):\n",
    "    return np.sum(test[1]==pred[1])"
   ]
  },
  {
   "cell_type": "code",
   "execution_count": null,
   "id": "1d130b59",
   "metadata": {},
   "outputs": [],
   "source": [
    "from sklearn.model_selection import KFold\n",
    "kf = KFold(n_splits=3)\n",
    "accs = []\n",
    "eproblist = []\n",
    "for train, test in kf.split(tagged_words):\n",
    "    x = [tagged_words[i] for i in train]\n",
    "    y = [tagged_words[i] for i in test]\n",
    "    eprobs = calcemission(x)\n",
    "    tprobs = calctransition(x)\n",
    "    preds = viterbi(y, eprobs, tprobs)\n",
    "    accs.append(accuracy(y, preds))\n",
    "    eproblist.append(eprobs)"
   ]
  },
  {
   "cell_type": "code",
   "execution_count": null,
   "id": "aba7ff7c",
   "metadata": {},
   "outputs": [],
   "source": []
  },
  {
   "cell_type": "markdown",
   "id": "a82a4d2b",
   "metadata": {},
   "source": [
    "### Part 2"
   ]
  },
  {
   "cell_type": "markdown",
   "id": "ed9e3f9d",
   "metadata": {},
   "source": [
    "### A"
   ]
  },
  {
   "cell_type": "code",
   "execution_count": null,
   "id": "14d20950",
   "metadata": {},
   "outputs": [],
   "source": [
    "from gensim.models import Word2Vec"
   ]
  },
  {
   "cell_type": "code",
   "execution_count": null,
   "id": "118932b5",
   "metadata": {},
   "outputs": [],
   "source": []
  }
 ],
 "metadata": {
  "kernelspec": {
   "display_name": "Python 3 (ipykernel)",
   "language": "python",
   "name": "python3"
  },
  "language_info": {
   "codemirror_mode": {
    "name": "ipython",
    "version": 3
   },
   "file_extension": ".py",
   "mimetype": "text/x-python",
   "name": "python",
   "nbconvert_exporter": "python",
   "pygments_lexer": "ipython3",
   "version": "3.9.6"
  }
 },
 "nbformat": 4,
 "nbformat_minor": 5
}
